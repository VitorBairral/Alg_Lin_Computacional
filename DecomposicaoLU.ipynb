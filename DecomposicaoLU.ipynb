{
 "cells": [
  {
   "cell_type": "markdown",
   "id": "bda6baea",
   "metadata": {},
   "source": [
    "# Implementação do método de decomposição LU para resolver sistemas lineares\n",
    "Nesse notebook, utilizaremos o método de decomposição LU para resolver um sistema linear. \n",
    "Para utilizar esse método, utilizamos uma matriz escalonada superior e a matriz inferior com os multiplicadores do escalonamento da matriz. Temos que: $Ax=B, A=LU \\therefore LUx=B$. Tratamos $Ux=y$ e daí resolvemos os sistemas resultantes. "
   ]
  },
  {
   "cell_type": "code",
   "execution_count": 82,
   "id": "42eeecdc",
   "metadata": {},
   "outputs": [],
   "source": [
    "import numpy as np\n",
    "\n",
    "a = np.array([[4.0, 3.0, -1.0],[2.0, 1.0, 1.0],[-1.0, 3.0, 4.0]])\n",
    "b = np.array([1.0, 4.0, 2.0])\n"
   ]
  },
  {
   "cell_type": "code",
   "execution_count": 83,
   "id": "9226474d",
   "metadata": {},
   "outputs": [],
   "source": [
    "def decomposicaoLU(al, bl):\n",
    "    \"\"\"Utiliza o mesmo algoritmo da redução gaussiana, mas retorna as matrizes L e U da redução.\"\"\"\n",
    "    n = len(al)  \n",
    "    a = al.copy()\n",
    "    b = bl.copy()\n",
    "    #Inicia a matriz L\n",
    "    low = []\n",
    "    for _ in range(0, n):\n",
    "        low.append(np.zeros(n))\n",
    "    for r in range(n):\n",
    "        for s in range(n):\n",
    "            if r == s:\n",
    "                low[r][s] = 1\n",
    "    low = np.array(low)\n",
    "\n",
    "    for k in range(0, n):\n",
    "        \n",
    "        #redução de Gauss:\n",
    "        \n",
    "        for j in range(k+1, n):\n",
    "            mji = a[j,k] / a[k,k]\n",
    "            a[j] = a[j] - np.dot(a[k], mji)\n",
    "            b[j] = b[j] - np.dot(b[k], mji)\n",
    "            #Insere o multiplicador na matriz low\n",
    "            low[j,k] = mji    \n",
    "                \n",
    "    return low, a\n",
    "#Armazena os valores em duas matrizes L e U para não ter que executar tudo de novo.\n",
    "L, U = decomposicaoLU(a, b)\n",
    "\n"
   ]
  },
  {
   "cell_type": "code",
   "execution_count": 84,
   "id": "77f17caf",
   "metadata": {},
   "outputs": [
    {
     "data": {
      "text/plain": [
       "array([ 1.7, -1.3,  1.9])"
      ]
     },
     "execution_count": 84,
     "metadata": {},
     "output_type": "execute_result"
    }
   ],
   "source": [
    "def resolucao(l, u, b):\n",
    "    n = len(b)\n",
    "    y = np.zeros(n)\n",
    "    #Resolve o sistema em relação a uma variavel y:\n",
    "    #Ly = b\n",
    "    y[0] = b[0]\n",
    "    for k in range(1, n):\n",
    "        soma = 0\n",
    "        for i in range(1, k+1):\n",
    "            soma += np.dot(l[k, k-i], y[k-i])\n",
    "        y[k] = b[k] - soma\n",
    "\n",
    "    #Resposta:\n",
    "    res = np.zeros(n)\n",
    "    res[n-1] = y[n-1] / u[n-1, n-1]\n",
    "    for k in range(n-2, -1, -1):\n",
    "        s = 0\n",
    "        for j in range(k+1, n): \n",
    "            s = s + u[k,j] * res[j]\n",
    "        res[k] = (y[k] - s) / u[k,k]\n",
    "    \n",
    "\n",
    "    return res\n",
    "\n",
    "resolucao(L, U, b)"
   ]
  }
 ],
 "metadata": {
  "kernelspec": {
   "display_name": "Python 3",
   "language": "python",
   "name": "python3"
  },
  "language_info": {
   "codemirror_mode": {
    "name": "ipython",
    "version": 3
   },
   "file_extension": ".py",
   "mimetype": "text/x-python",
   "name": "python",
   "nbconvert_exporter": "python",
   "pygments_lexer": "ipython3",
   "version": "3.12.7"
  }
 },
 "nbformat": 4,
 "nbformat_minor": 5
}
