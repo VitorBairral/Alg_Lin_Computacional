{
 "cells": [
  {
   "cell_type": "markdown",
   "id": "d9624cda",
   "metadata": {},
   "source": [
    "# Método de Gauss-Jacobi\n",
    "O método de Gauss-Jacobi é um método iterativo que procura uma aproximação da solução do sistema linear. Ele inicia um passo com um palpite de uma solução e usa esses valores para realimentar o sistema a fim de se aproximar cada vez mais da solução real. Um indício de que o método encontrou uma solução satisfatória é a estabilização da solução, ou seja, a diferença entre a solução atual e a solução anterior é pequena. $\\\\$ Para impedir que o programa rode eternamente, utilizaremos esse critério de parada, baseado no erro relativo entre as soluções $x_k$ e $x_{k+1}$ para $k$ iterações. Caso o erro relativo entre as iterações seja menor ou igual a um fator de tolerância, o programa retorna sua estimativa."
   ]
  },
  {
   "cell_type": "markdown",
   "id": "232a27b7",
   "metadata": {},
   "source": [
    "## Inicializando o sistema linear"
   ]
  },
  {
   "cell_type": "code",
   "execution_count": 70,
   "id": "8bda8287",
   "metadata": {},
   "outputs": [],
   "source": [
    "import numpy as np\n",
    "\n",
    "a = np.array([[1.0, 3.0, -1.0],[2.0, 6.0, 1.0],[-1.0, 1.0, 4.0]])\n",
    "b = np.array([1.0, 0, 2.0])"
   ]
  },
  {
   "cell_type": "markdown",
   "id": "13bfaebe",
   "metadata": {},
   "source": [
    "## Aplicando o método de Gauss-Jacobi com o critério de parada do erro relativo."
   ]
  },
  {
   "cell_type": "code",
   "execution_count": 71,
   "id": "c087b640",
   "metadata": {},
   "outputs": [
    {
     "name": "stdout",
     "output_type": "stream",
     "text": [
      "[-15   5  -4]\n"
     ]
    }
   ],
   "source": [
    "def gauss_jacobi(matriz, matrizb, t):\n",
    "    def resolucao(matriz, matrizb, t, palpite):\n",
    "        def passo(matriz, matrizb, p):\n",
    "            palpite = p.copy()\n",
    "            for n in range(len(palpite)):\n",
    "                soma = matrizb[n]\n",
    "                for k in range(0, len(palpite)):\n",
    "                    if n != k:\n",
    "                        soma -= matriz[n, k] * palpite[k]\n",
    "                palpite[n] = soma / matriz[n,n]\n",
    "            return palpite\n",
    "\n",
    "        def erro_relativo(palpite_velho, palpite_novo):\n",
    "            xk = max([abs(numero) for numero in palpite_velho])\n",
    "            xkn = max([abs(numero) for numero in palpite_novo])\n",
    "            return abs(xkn - xk)/xkn\n",
    "    \n",
    "        palpite_velho = palpite.copy()\n",
    "        palpite_novo = passo(matriz, matrizb, palpite_velho)\n",
    "        if erro_relativo(palpite_velho, palpite_novo) <= t:\n",
    "            return palpite_novo\n",
    "        else:\n",
    "            return resolucao(matriz, matrizb, t, palpite_novo)\n",
    "    palpite = np.random.randint(1, 12, size=len( matrizb))\n",
    "    return resolucao(matriz, matrizb, t, palpite)\n",
    "\n",
    "print(gauss_jacobi(a, b, 0.1))\n",
    "\n",
    "    \n"
   ]
  }
 ],
 "metadata": {
  "kernelspec": {
   "display_name": "Python 3",
   "language": "python",
   "name": "python3"
  },
  "language_info": {
   "codemirror_mode": {
    "name": "ipython",
    "version": 3
   },
   "file_extension": ".py",
   "mimetype": "text/x-python",
   "name": "python",
   "nbconvert_exporter": "python",
   "pygments_lexer": "ipython3",
   "version": "3.12.7"
  }
 },
 "nbformat": 4,
 "nbformat_minor": 5
}
