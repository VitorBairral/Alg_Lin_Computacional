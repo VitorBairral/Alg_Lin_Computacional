{
 "cells": [
  {
   "cell_type": "markdown",
   "id": "95a47489",
   "metadata": {
    "vscode": {
     "languageId": "plaintext"
    }
   },
   "source": [
    "# Implementação do método da redução gaussiana para resolver sistemas lineares\n",
    "Dado um sistema linear, aplica-se o escalonamento para cada equação para cada uma das de cima. "
   ]
  },
  {
   "cell_type": "code",
   "execution_count": 4,
   "id": "a2454610",
   "metadata": {},
   "outputs": [],
   "source": [
    "import numpy as np\n",
    "\n",
    "a = np.array([[1.0, 3.0, -1.0],[2.0, 6.0, 1.0],[-1.0, 1.0, 4.0]])\n",
    "b = np.array([1.0, 0, 2.0])\n",
    "\n",
    "\n",
    "\n"
   ]
  },
  {
   "cell_type": "code",
   "execution_count": 5,
   "id": "c2461bf9",
   "metadata": {},
   "outputs": [
    {
     "name": "stdout",
     "output_type": "stream",
     "text": [
      "[-3.41666667  1.25       -0.66666667]\n"
     ]
    }
   ],
   "source": [
    "def escalonamento(a, b):\n",
    "    n = len(a)  \n",
    "\n",
    "    for k in range(0, n):\n",
    "        #Pivoteamento:\n",
    "        \n",
    "        pivo = a[k,k]\n",
    "        indice_pivo = k\n",
    "        for i in range(k+1, n):\n",
    "            if abs(a[i][k]) > pivo:\n",
    "                pivo = a[i][k]\n",
    "                indice_pivo = i \n",
    "            if pivo == 0:\n",
    "                break\n",
    "            if indice_pivo != k:\n",
    "                troca = a[k].copy()\n",
    "                a[k] = a[indice_pivo].copy()\n",
    "                a[indice_pivo] = troca.copy()\n",
    "\n",
    "                btroca = b[k]\n",
    "                b[k] = b[indice_pivo]\n",
    "                b[indice_pivo] = btroca\n",
    "                \n",
    "\n",
    "        #redução de Gauss:\n",
    "        \n",
    "        for j in range(k+1, n):\n",
    "            \n",
    "            mji = a[j,k] / a[k,k]\n",
    "            a[j] = a[j] - np.dot(a[k], mji)\n",
    "            b[j] = b[j] - np.dot(b[k], mji)\n",
    "            \n",
    "        \n",
    "    #Resposta:\n",
    "    res = np.zeros(n)\n",
    "    res[n-1] = b[n-1] / a[n-1, n-1]\n",
    "    for k in range(n-2, -1, -1):\n",
    "        s = 0\n",
    "        for j in range(k+1, n): \n",
    "            s = s + a[k,j] * res[j]\n",
    "        res[k] = (b[k] - s) / a[k,k]\n",
    "          \n",
    "                \n",
    "    return res\n",
    "\n",
    "print(escalonamento(a, b))\n"
   ]
  }
 ],
 "metadata": {
  "kernelspec": {
   "display_name": "Python 3",
   "language": "python",
   "name": "python3"
  },
  "language_info": {
   "codemirror_mode": {
    "name": "ipython",
    "version": 3
   },
   "file_extension": ".py",
   "mimetype": "text/x-python",
   "name": "python",
   "nbconvert_exporter": "python",
   "pygments_lexer": "ipython3",
   "version": "3.12.7"
  }
 },
 "nbformat": 4,
 "nbformat_minor": 5
}
